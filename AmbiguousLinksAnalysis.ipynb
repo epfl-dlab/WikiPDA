{
 "cells": [
  {
   "cell_type": "code",
   "execution_count": 2,
   "metadata": {},
   "outputs": [],
   "source": [
    "import pyspark\n",
    "import pyspark.sql\n",
    "from pyspark.sql import *\n",
    "from pyspark.sql.functions import *\n",
    "import json\n",
    "import urllib\n",
    "import argparse\n",
    "\n",
    "\n",
    "conf = pyspark.SparkConf().setMaster(\"local[*]\").setAll([\n",
    "                                   ('spark.driver.memory','64g'),\n",
    "                                   ('spark.driver.maxResultSize', '32G'),\n",
    "                                   ('spark.local.dir', '/scratch/tmp/'),\n",
    "                                   ('spark.yarn.stagingDir', '/scratch/tmp/')\n",
    "                                  ])\n",
    "\n",
    "# create the session\n",
    "spark = SparkSession.builder.config(conf=conf).getOrCreate()\n",
    "# create the context\n",
    "sc = spark.sparkContext"
   ]
  },
  {
   "cell_type": "code",
   "execution_count": 3,
   "metadata": {},
   "outputs": [],
   "source": [
    "site = 'arwiki'"
   ]
  },
  {
   "cell_type": "code",
   "execution_count": 9,
   "metadata": {},
   "outputs": [
    {
     "data": {
      "text/plain": [
       "1973615"
      ]
     },
     "execution_count": 9,
     "metadata": {},
     "output_type": "execute_result"
    }
   ],
   "source": [
    "# wikipedia = spark.read.parquet(\"datasets/{}/wikipedia.parquet\".format(site))\n",
    "# wikipedia.count()"
   ]
  },
  {
   "cell_type": "code",
   "execution_count": 8,
   "metadata": {},
   "outputs": [
    {
     "data": {
      "text/plain": [
       "DataFrame[page_id: bigint, qid: string, title: string, anchor: string, link: string, destination: string, destination_qid: string]"
      ]
     },
     "execution_count": 8,
     "metadata": {},
     "output_type": "execute_result"
    }
   ],
   "source": [
    "anchors_info_qid = spark.read.parquet(\"datasets/{}/anchors_info_qid.parquet\".format(site))\n",
    "anchors_info_qid"
   ]
  },
  {
   "cell_type": "code",
   "execution_count": 5,
   "metadata": {},
   "outputs": [
    {
     "data": {
      "text/plain": [
       "14579190"
      ]
     },
     "execution_count": 5,
     "metadata": {},
     "output_type": "execute_result"
    }
   ],
   "source": [
    "anchors_info_qid.count()"
   ]
  },
  {
   "cell_type": "code",
   "execution_count": null,
   "metadata": {},
   "outputs": [],
   "source": []
  },
  {
   "cell_type": "code",
   "execution_count": 7,
   "metadata": {},
   "outputs": [
    {
     "name": "stdout",
     "output_type": "stream",
     "text": [
      "+-------+---------+--------------------+--------------------+--------------------+--------------------+---------------+\n",
      "|page_id|      qid|               title|              anchor|                link|         destination|destination_qid|\n",
      "+-------+---------+--------------------+--------------------+--------------------+--------------------+---------------+\n",
      "|1963740|  Q996351|           كارينغتون|                ذكور|           ذكر (جنس)|           ذكر (جنس)|         Q44148|\n",
      "|2820681|   Q76736|كارل السابع (إمبر...|                1697|                1697|                1697|          Q7702|\n",
      "|2198097| Q1207471|      كشمير (واشنطن)|مكتب تعداد الولاي...|مكتب تعداد الولاي...|مكتب تعداد الولاي...|        Q637413|\n",
      "|5780335| Q4886608|           بين فنسنت|             أسترالي|            أستراليا|            أستراليا|           Q408|\n",
      "| 561864|  Q459090|         نادي أمريكا|دوري أبطال الكونك...|دوري أبطال الكونك...|دوري أبطال الكونك...|         Q83335|\n",
      "|6738485| Q3859108|ملكة جمال الدولية...|             نيجيريا|             نيجيريا|             نيجيريا|          Q1033|\n",
      "|1211440|Q12180920|         أنور عقل ضو|           جبل لبنان|           جبل لبنان|           جبل لبنان|        Q333711|\n",
      "| 748480| Q2558262|    عبد الملك الحوثي|               اليمن|               اليمن|               اليمن|           Q805|\n",
      "|2691170| Q4726671|عليمرادخان (مقاطع...|قسم ايتيوند الجنو...|قسم ايتيوند الجنو...|قسم ايتيوند الجنو...|      Q10855669|\n",
      "|3529985| Q2318382|   ماريوس بركفيتشيوس|       ليتوفوس رايتس|       ليتوفوس رايتس|       ليتوفوس رايتس|         Q46942|\n",
      "|1275960|   Q19744|               بوليط|                رتبة|        رتبة (تصنيف)|        رتبة (تصنيف)|         Q36602|\n",
      "|6131475|Q48977428|جيف ريتشاردز (لاع...|            ديل سيتي|            ديل سيتي|            ديل سيتي|       Q2888698|\n",
      "| 273624|   Q79794|            أيل أحمر|              ملبورن|              ملبورن|              ملبورن|          Q3141|\n",
      "|  16234|    Q8597|     جلال الدين أكبر|      السماع الصوفية|        سماع (إنشاد)|        سماع (إنشاد)|       Q2513655|\n",
      "|4431515|Q28655133|       بسام الصرارفي|              نيس ii|            نادي نيس|            نادي نيس|        Q185163|\n",
      "|1124212|  Q733639|أوراق لعب على الط...|                   .|        نقطة النهاية|        نقطة النهاية|        Q172008|\n",
      "|5686263| Q5416437|        إيفيلين شارب|    الولايات المتحدة|    الولايات المتحدة|    الولايات المتحدة|            Q30|\n",
      "|3049615| Q3977731|كأس السوبر الإسبا...|             برشلونة|             برشلونة|             برشلونة|          Q1492|\n",
      "|1457507|Q16118656|    المسيحية في تونس|    الخلافة الفاطمية|     الدولة الفاطمية|     الدولة الفاطمية|        Q160307|\n",
      "|3507596|Q28917917|أو تلاوك (إد عبد ...|                2004|الإحصاء العام للس...|الإحصاء العام للس...|      Q28878253|\n",
      "+-------+---------+--------------------+--------------------+--------------------+--------------------+---------------+\n",
      "only showing top 20 rows\n",
      "\n"
     ]
    }
   ],
   "source": [
    "anchors_info_qid.sort(rand()).show()"
   ]
  },
  {
   "cell_type": "code",
   "execution_count": null,
   "metadata": {},
   "outputs": [],
   "source": []
  }
 ],
 "metadata": {
  "kernelspec": {
   "display_name": "Python 3",
   "language": "python",
   "name": "python3"
  },
  "language_info": {
   "codemirror_mode": {
    "name": "ipython",
    "version": 3
   },
   "file_extension": ".py",
   "mimetype": "text/x-python",
   "name": "python",
   "nbconvert_exporter": "python",
   "pygments_lexer": "ipython3",
   "version": "3.6.7"
  }
 },
 "nbformat": 4,
 "nbformat_minor": 2
}
