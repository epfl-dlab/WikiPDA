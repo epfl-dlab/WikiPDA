{
 "cells": [
  {
   "cell_type": "code",
   "execution_count": 1,
   "metadata": {
    "collapsed": true
   },
   "outputs": [],
   "source": [
    "from pyspark.ml.feature import HashingTF, IDF, Tokenizer\n",
    "import pyspark\n",
    "import pyspark.sql\n",
    "from pyspark.sql import *\n",
    "from pyspark.sql.functions import *\n",
    "import json\n",
    "import argparse\n",
    "%matplotlib inline\n",
    "\n",
    "conf = pyspark.SparkConf().setMaster(\"local[*]\").setAll([\n",
    "                                   ('spark.driver.memory','64g'),\n",
    "                                   ('spark.driver.maxResultSize', '32G'),\n",
    "                                   ('spark.local.dir', '/scratch/tmp/'),\n",
    "                                   ('spark.yarn.stagingDir', '/scratch/tmp/'),\n",
    "                                   ('spark.sql.warehouse.dir', '/scratch/tmp/')\n",
    "                                  ])\n",
    "\n",
    "\n",
    "# create the session\n",
    "spark = SparkSession.builder.config(conf=conf).getOrCreate()\n",
    "# create the context\n",
    "sc = spark.sparkContext"
   ]
  },
  {
   "cell_type": "code",
   "execution_count": 2,
   "metadata": {},
   "outputs": [
    {
     "data": {
      "text/html": [
       "\n",
       "            <div>\n",
       "                <p><b>SparkSession - in-memory</b></p>\n",
       "                \n",
       "        <div>\n",
       "            <p><b>SparkContext</b></p>\n",
       "\n",
       "            <p><a href=\"http://10.90.36.37:4040\">Spark UI</a></p>\n",
       "\n",
       "            <dl>\n",
       "              <dt>Version</dt>\n",
       "                <dd><code>v2.4.5</code></dd>\n",
       "              <dt>Master</dt>\n",
       "                <dd><code>local[*]</code></dd>\n",
       "              <dt>AppName</dt>\n",
       "                <dd><code>pyspark-shell</code></dd>\n",
       "            </dl>\n",
       "        </div>\n",
       "        \n",
       "            </div>\n",
       "        "
      ],
      "text/plain": [
       "<pyspark.sql.session.SparkSession at 0x7fb49773bb70>"
      ]
     },
     "execution_count": 2,
     "metadata": {},
     "output_type": "execute_result"
    }
   ],
   "source": [
    "spark"
   ]
  },
  {
   "cell_type": "code",
   "execution_count": 3,
   "metadata": {
    "collapsed": true
   },
   "outputs": [],
   "source": [
    "sites = [\"jawiki\", \"cswiki\", \"cawiki\", \"svwiki\", \"arwiki\", \"dewiki\", \n",
    "             \"elwiki\", \"enwiki\", \"eswiki\", \"fawiki\", \"fiwiki\", \"frwiki\", \n",
    "             \"hewiki\", \"idwiki\", \"itwiki\", \"kowiki\", \"nlwiki\", \"plwiki\", \n",
    "             \"ptwiki\", \"rowiki\", \"ruwiki\", \"sqwiki\", \"srwiki\", \"trwiki\", \n",
    "             \"ukwiki\", \"viwiki\", \"warwiki\", \"zhwiki\"]"
   ]
  },
  {
   "cell_type": "code",
   "execution_count": 4,
   "metadata": {},
   "outputs": [
    {
     "data": {
      "text/plain": [
       "DataFrame[site: string, qid: string, links: array<string>]"
      ]
     },
     "execution_count": 4,
     "metadata": {},
     "output_type": "execute_result"
    }
   ],
   "source": [
    "all_links_enriched_rdd = sc.emptyRDD()\n",
    "for s in sites:\n",
    "    links = spark.read.parquet(\"datasets/{}/enriched_all_links.parquet\".format(s))\n",
    "    all_links_enriched_rdd = all_links_enriched_rdd.union(links.selectExpr(\"'{}' as site\".format(s), \"*\").rdd)\n",
    "    \n",
    "all_links_enriched = spark.createDataFrame(all_links_enriched_rdd)\n",
    "all_links_enriched"
   ]
  },
  {
   "cell_type": "code",
   "execution_count": 5,
   "metadata": {},
   "outputs": [
    {
     "data": {
      "text/plain": [
       "DataFrame[site: string, qid: string, links: array<string>]"
      ]
     },
     "execution_count": 5,
     "metadata": {},
     "output_type": "execute_result"
    }
   ],
   "source": [
    "all_links_rdd = sc.emptyRDD()\n",
    "for s in sites:\n",
    "    links = spark.read.parquet(\"datasets/{}/anchors_info_qid.parquet\".format(s))\n",
    "    all_links_rdd = all_links_rdd.union(links.filter(\"anchor not rlike '^[0-9]+$'\").groupBy(\"qid\")\\\n",
    "                    .agg(collect_list(\"destination_qid\").alias(\"links\"))\n",
    "                    .selectExpr(\"'{}' as site\".format(s), \"qid\", \"links\").rdd)\n",
    "    \n",
    "all_links = spark.createDataFrame(all_links_rdd)\n",
    "all_links"
   ]
  },
  {
   "cell_type": "code",
   "execution_count": null,
   "metadata": {},
   "outputs": [
    {
     "data": {
      "text/html": [
       "<div>\n",
       "<style>\n",
       "    .dataframe thead tr:only-child th {\n",
       "        text-align: right;\n",
       "    }\n",
       "\n",
       "    .dataframe thead th {\n",
       "        text-align: left;\n",
       "    }\n",
       "\n",
       "    .dataframe tbody tr th {\n",
       "        vertical-align: top;\n",
       "    }\n",
       "</style>\n",
       "<table border=\"1\" class=\"dataframe\">\n",
       "  <thead>\n",
       "    <tr style=\"text-align: right;\">\n",
       "      <th></th>\n",
       "      <th>site</th>\n",
       "      <th>links_count</th>\n",
       "      <th>total</th>\n",
       "    </tr>\n",
       "  </thead>\n",
       "  <tbody>\n",
       "    <tr>\n",
       "      <th>0</th>\n",
       "      <td>jawiki</td>\n",
       "      <td>542</td>\n",
       "      <td>28</td>\n",
       "    </tr>\n",
       "    <tr>\n",
       "      <th>1</th>\n",
       "      <td>jawiki</td>\n",
       "      <td>669</td>\n",
       "      <td>18</td>\n",
       "    </tr>\n",
       "    <tr>\n",
       "      <th>2</th>\n",
       "      <td>jawiki</td>\n",
       "      <td>832</td>\n",
       "      <td>11</td>\n",
       "    </tr>\n",
       "    <tr>\n",
       "      <th>3</th>\n",
       "      <td>jawiki</td>\n",
       "      <td>1643</td>\n",
       "      <td>2</td>\n",
       "    </tr>\n",
       "    <tr>\n",
       "      <th>4</th>\n",
       "      <td>jawiki</td>\n",
       "      <td>2597</td>\n",
       "      <td>1</td>\n",
       "    </tr>\n",
       "  </tbody>\n",
       "</table>\n",
       "</div>"
      ],
      "text/plain": [
       "     site  links_count  total\n",
       "0  jawiki          542     28\n",
       "1  jawiki          669     18\n",
       "2  jawiki          832     11\n",
       "3  jawiki         1643      2\n",
       "4  jawiki         2597      1"
      ]
     },
     "execution_count": 7,
     "metadata": {},
     "output_type": "execute_result"
    }
   ],
   "source": [
    "links_count_enriched = all_links_enriched.selectExpr(\"site\", \"SIZE(links) links_count\").groupBy(\"site\", \"links_count\")\\\n",
    "                .agg(count(\"*\").alias(\"total\")).toPandas()\n",
    "\n",
    "links_count_enriched.head()"
   ]
  },
  {
   "cell_type": "code",
   "execution_count": null,
   "metadata": {},
   "outputs": [
    {
     "data": {
      "text/html": [
       "<div>\n",
       "<style>\n",
       "    .dataframe thead tr:only-child th {\n",
       "        text-align: right;\n",
       "    }\n",
       "\n",
       "    .dataframe thead th {\n",
       "        text-align: left;\n",
       "    }\n",
       "\n",
       "    .dataframe tbody tr th {\n",
       "        vertical-align: top;\n",
       "    }\n",
       "</style>\n",
       "<table border=\"1\" class=\"dataframe\">\n",
       "  <thead>\n",
       "    <tr style=\"text-align: right;\">\n",
       "      <th></th>\n",
       "      <th>site</th>\n",
       "      <th>links_count</th>\n",
       "      <th>total</th>\n",
       "    </tr>\n",
       "  </thead>\n",
       "  <tbody>\n",
       "    <tr>\n",
       "      <th>0</th>\n",
       "      <td>jawiki</td>\n",
       "      <td>861</td>\n",
       "      <td>6</td>\n",
       "    </tr>\n",
       "    <tr>\n",
       "      <th>1</th>\n",
       "      <td>jawiki</td>\n",
       "      <td>669</td>\n",
       "      <td>9</td>\n",
       "    </tr>\n",
       "    <tr>\n",
       "      <th>2</th>\n",
       "      <td>jawiki</td>\n",
       "      <td>542</td>\n",
       "      <td>22</td>\n",
       "    </tr>\n",
       "    <tr>\n",
       "      <th>3</th>\n",
       "      <td>jawiki</td>\n",
       "      <td>832</td>\n",
       "      <td>6</td>\n",
       "    </tr>\n",
       "    <tr>\n",
       "      <th>4</th>\n",
       "      <td>jawiki</td>\n",
       "      <td>1848</td>\n",
       "      <td>1</td>\n",
       "    </tr>\n",
       "  </tbody>\n",
       "</table>\n",
       "</div>"
      ],
      "text/plain": [
       "     site  links_count  total\n",
       "0  jawiki          861      6\n",
       "1  jawiki          669      9\n",
       "2  jawiki          542     22\n",
       "3  jawiki          832      6\n",
       "4  jawiki         1848      1"
      ]
     },
     "execution_count": 8,
     "metadata": {},
     "output_type": "execute_result"
    }
   ],
   "source": [
    "links_count = all_links.selectExpr(\"site\", \"SIZE(links) links_count\").groupBy(\"site\", \"links_count\")\\\n",
    "                .agg(count(\"*\").alias(\"total\")).toPandas()\n",
    "\n",
    "links_count.head()"
   ]
  },
  {
   "cell_type": "code",
   "execution_count": 12,
   "metadata": {
    "collapsed": true
   },
   "outputs": [],
   "source": [
    "links_count.to_pickle(\"temp_data/links_count.pkl\")\n",
    "links_count_enriched.to_pickle(\"temp_data/links_count_enriched.pkl\")"
   ]
  },
  {
   "cell_type": "code",
   "execution_count": null,
   "metadata": {},
   "outputs": [],
   "source": []
  },
  {
   "cell_type": "code",
   "execution_count": null,
   "metadata": {
    "collapsed": true
   },
   "outputs": [],
   "source": []
  }
 ],
 "metadata": {
  "kernelspec": {
   "display_name": "Python 3",
   "language": "python",
   "name": "python3"
  },
  "language_info": {
   "codemirror_mode": {
    "name": "ipython",
    "version": 3
   },
   "file_extension": ".py",
   "mimetype": "text/x-python",
   "name": "python",
   "nbconvert_exporter": "python",
   "pygments_lexer": "ipython3",
   "version": "3.6.3"
  }
 },
 "nbformat": 4,
 "nbformat_minor": 2
}
