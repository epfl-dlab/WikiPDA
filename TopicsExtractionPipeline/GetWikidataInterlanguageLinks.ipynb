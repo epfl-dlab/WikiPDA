{
 "cells": [
  {
   "cell_type": "code",
   "execution_count": 1,
   "metadata": {},
   "outputs": [],
   "source": [
    "import pyspark\n",
    "import pyspark.sql\n",
    "from pyspark.sql import *\n",
    "from pyspark.sql.functions import *\n",
    "import json\n",
    "\n",
    "conf = pyspark.SparkConf().setMaster(\"local[*]\").setAll([\n",
    "                                   ('spark.driver.memory','150g'),\n",
    "                                   ('spark.driver.maxResultSize', '32G'),\n",
    "                                   ('spark.local.dir', '/scratch/tmp/'),\n",
    "                                   ('spark.yarn.stagingDir', '/scratch/tmp/')                 \n",
    "                                  ])\n",
    "# create the session\n",
    "spark = SparkSession.builder.config(conf=conf).getOrCreate()\n",
    "# create the context\n",
    "sc = spark.sparkContext"
   ]
  },
  {
   "cell_type": "code",
   "execution_count": 2,
   "metadata": {},
   "outputs": [
    {
     "data": {
      "text/html": [
       "\n",
       "            <div>\n",
       "                <p><b>SparkSession - in-memory</b></p>\n",
       "                \n",
       "        <div>\n",
       "            <p><b>SparkContext</b></p>\n",
       "\n",
       "            <p><a href=\"http://10.90.36.41:4042\">Spark UI</a></p>\n",
       "\n",
       "            <dl>\n",
       "              <dt>Version</dt>\n",
       "                <dd><code>v2.4.4</code></dd>\n",
       "              <dt>Master</dt>\n",
       "                <dd><code>local[*]</code></dd>\n",
       "              <dt>AppName</dt>\n",
       "                <dd><code>pyspark-shell</code></dd>\n",
       "            </dl>\n",
       "        </div>\n",
       "        \n",
       "            </div>\n",
       "        "
      ],
      "text/plain": [
       "<pyspark.sql.session.SparkSession at 0x7f1860081ac8>"
      ]
     },
     "execution_count": 2,
     "metadata": {},
     "output_type": "execute_result"
    }
   ],
   "source": [
    "spark"
   ]
  },
  {
   "cell_type": "code",
   "execution_count": 3,
   "metadata": {},
   "outputs": [],
   "source": [
    "wikidata_all = sc.textFile(\"latest-20200205.json.bz2\")"
   ]
  },
  {
   "cell_type": "code",
   "execution_count": 4,
   "metadata": {
    "scrolled": true
   },
   "outputs": [],
   "source": [
    "DISAMBIGUATION = 'Q4167410'\n",
    "LIST = 'Q13406463'\n",
    "INTERNAL_ITEM = 'Q17442446'\n",
    "CATEGORY = 'Q4167836'\n",
    "\n",
    "def get_entity_info(line):\n",
    "    try:\n",
    "        if DISAMBIGUATION in line or LIST in line or INTERNAL_ITEM in line or CATEGORY in line:\n",
    "            return []\n",
    "        row = json.loads(line[:-1])\n",
    "        if 'type' in row and row['type'] == 'item':\n",
    "            titles = []\n",
    "            if 'sitelinks' in row:\n",
    "                for k,v in row['sitelinks'].items():\n",
    "                    site = v['site']\n",
    "                    if site.endswith('wiki'):\n",
    "                        title = v['title']\n",
    "                        titles.append(Row(qid=row['id'], site=site, title=title))\n",
    "            return titles\n",
    "        else:\n",
    "            return []\n",
    "    except Exception as e:\n",
    "        return []\n"
   ]
  },
  {
   "cell_type": "code",
   "execution_count": 5,
   "metadata": {},
   "outputs": [],
   "source": [
    "articles = wikidata_all.flatMap(get_entity_info)"
   ]
  },
  {
   "cell_type": "code",
   "execution_count": 6,
   "metadata": {},
   "outputs": [],
   "source": [
    "all_entities = spark.createDataFrame(articles)"
   ]
  },
  {
   "cell_type": "code",
   "execution_count": 7,
   "metadata": {},
   "outputs": [],
   "source": [
    "all_entities.write.mode(\"overwrite\").parquet(\"WikidataInterlanguageLinks.parquet\")"
   ]
  },
  {
   "cell_type": "code",
   "execution_count": null,
   "metadata": {},
   "outputs": [],
   "source": []
  }
 ],
 "metadata": {
  "kernelspec": {
   "display_name": "Python 3",
   "language": "python",
   "name": "python3"
  },
  "language_info": {
   "codemirror_mode": {
    "name": "ipython",
    "version": 3
   },
   "file_extension": ".py",
   "mimetype": "text/x-python",
   "name": "python",
   "nbconvert_exporter": "python",
   "pygments_lexer": "ipython3",
   "version": "3.7.7"
  }
 },
 "nbformat": 4,
 "nbformat_minor": 4
}
