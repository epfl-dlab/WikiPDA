{
 "cells": [
  {
   "cell_type": "code",
   "execution_count": 1,
   "metadata": {
    "collapsed": true
   },
   "outputs": [],
   "source": [
    "import pyspark\n",
    "import pyspark.sql\n",
    "from pyspark.sql import *\n",
    "from pyspark.sql.functions import *\n",
    "import json\n",
    "import urllib\n",
    "import argparse\n",
    "%matplotlib inline\n",
    "\n",
    "conf = pyspark.SparkConf().setMaster(\"local[*]\").setAll([\n",
    "                                   ('spark.driver.memory','240g'),\n",
    "                                   ('spark.driver.maxResultSize', '32G'),\n",
    "                                   ('spark.local.dir', '/scratch/tmp/'),\n",
    "                                   ('spark.yarn.stagingDir', '/scratch/tmp/')\n",
    "                                  ])\n",
    "\n",
    "# create the session\n",
    "spark = SparkSession.builder.config(conf=conf).getOrCreate()\n",
    "# create the context\n",
    "sc = spark.sparkContext"
   ]
  },
  {
   "cell_type": "code",
   "execution_count": 2,
   "metadata": {},
   "outputs": [
    {
     "data": {
      "text/html": [
       "\n",
       "            <div>\n",
       "                <p><b>SparkSession - in-memory</b></p>\n",
       "                \n",
       "        <div>\n",
       "            <p><b>SparkContext</b></p>\n",
       "\n",
       "            <p><a href=\"http://10.90.36.37:4041\">Spark UI</a></p>\n",
       "\n",
       "            <dl>\n",
       "              <dt>Version</dt>\n",
       "                <dd><code>v2.4.5</code></dd>\n",
       "              <dt>Master</dt>\n",
       "                <dd><code>local[*]</code></dd>\n",
       "              <dt>AppName</dt>\n",
       "                <dd><code>pyspark-shell</code></dd>\n",
       "            </dl>\n",
       "        </div>\n",
       "        \n",
       "            </div>\n",
       "        "
      ],
      "text/plain": [
       "<pyspark.sql.session.SparkSession at 0x7ff42778cdd8>"
      ]
     },
     "execution_count": 2,
     "metadata": {},
     "output_type": "execute_result"
    }
   ],
   "source": [
    "spark"
   ]
  },
  {
   "cell_type": "code",
   "execution_count": 3,
   "metadata": {
    "collapsed": true
   },
   "outputs": [],
   "source": [
    "sites = [\"jawiki\", \"cswiki\", \"cawiki\", \"svwiki\", \"arwiki\", \"dewiki\", \n",
    "             \"elwiki\", \"enwiki\", \"eswiki\", \"fawiki\", \"fiwiki\", \"frwiki\", \n",
    "             \"hewiki\", \"idwiki\", \"itwiki\", \"kowiki\", \"nlwiki\", \"plwiki\", \n",
    "             \"ptwiki\", \"rowiki\", \"ruwiki\", \"sqwiki\", \"srwiki\", \"trwiki\", \n",
    "             \"ukwiki\", \"viwiki\", \"warwiki\", \"zhwiki\"]"
   ]
  },
  {
   "cell_type": "code",
   "execution_count": 4,
   "metadata": {},
   "outputs": [
    {
     "data": {
      "text/plain": [
       "DataFrame[site: string, qid: string, links: array<string>]"
      ]
     },
     "execution_count": 4,
     "metadata": {},
     "output_type": "execute_result"
    }
   ],
   "source": [
    "all_links_rdd = sc.emptyRDD()\n",
    "for s in sites:\n",
    "    links = spark.read.parquet(\"datasets/{}/anchors_info_qid.parquet\".format(s))\n",
    "    all_links_rdd = all_links_rdd.union(links.filter(\"anchor not rlike '^[0-9]+$'\").groupBy(\"qid\")\\\n",
    "                    .agg(collect_list(\"destination_qid\").alias(\"links\"))\n",
    "                    .selectExpr(\"'{}' as site\".format(s), \"qid\", \"links\").rdd)\n",
    "    \n",
    "all_links = spark.createDataFrame(all_links_rdd)\n",
    "all_links"
   ]
  },
  {
   "cell_type": "code",
   "execution_count": 5,
   "metadata": {},
   "outputs": [
    {
     "data": {
      "text/plain": [
       "DataFrame[site: string, qid: string, links: array<string>]"
      ]
     },
     "execution_count": 5,
     "metadata": {},
     "output_type": "execute_result"
    }
   ],
   "source": [
    "# all_links = spark.createDataFrame(all_links_rdd)\n",
    "# all_links"
   ]
  },
  {
   "cell_type": "code",
   "execution_count": 6,
   "metadata": {},
   "outputs": [
    {
     "data": {
      "text/plain": [
       "DataFrame[qid: string, heldout: boolean, site: string]"
      ]
     },
     "execution_count": 6,
     "metadata": {},
     "output_type": "execute_result"
    }
   ],
   "source": [
    "qids_rdd = sc.emptyRDD()\n",
    "for s in sites:\n",
    "    qids = spark.read.parquet(\"datasets/{}/heldout_documents.parquet\".format(s))\\\n",
    "            .selectExpr(\"*\", \"'{}' as site\".format(s))\n",
    "    qids_rdd = qids_rdd.union(qids.rdd)\n",
    "    \n",
    "qids = spark.createDataFrame(qids_rdd)\n",
    "qids"
   ]
  },
  {
   "cell_type": "code",
   "execution_count": 7,
   "metadata": {
    "collapsed": true
   },
   "outputs": [],
   "source": [
    "training_qids = qids.where(\"heldout = FALSE\")\n",
    "testing_qids = qids.where(\"heldout = TRUE\")"
   ]
  },
  {
   "cell_type": "code",
   "execution_count": 8,
   "metadata": {},
   "outputs": [
    {
     "data": {
      "text/plain": [
       "DataFrame[links: array<string>]"
      ]
     },
     "execution_count": 8,
     "metadata": {},
     "output_type": "execute_result"
    }
   ],
   "source": [
    "training = all_links.join(training_qids, (all_links.qid==training_qids.qid) & (all_links.site==training_qids.site))\n",
    "training_self_loop = spark.createDataFrame(training.rdd.map(lambda r: Row(links=r.links+[r.qid])))\n",
    "training_self_loop"
   ]
  },
  {
   "cell_type": "code",
   "execution_count": 8,
   "metadata": {},
   "outputs": [
    {
     "data": {
      "text/plain": [
       "DataFrame[links: array<string>, qid: string, site: string]"
      ]
     },
     "execution_count": 8,
     "metadata": {},
     "output_type": "execute_result"
    }
   ],
   "source": [
    "testing = all_links.join(testing_qids, (all_links.qid==testing_qids.qid) & (all_links.site==testing_qids.site))\n",
    "testing_self_loop = spark.createDataFrame(testing.rdd.map(lambda r: Row(site=r.site, qid=r.qid, links=r.links+[r.qid])))\n",
    "testing_self_loop"
   ]
  },
  {
   "cell_type": "code",
   "execution_count": 9,
   "metadata": {
    "collapsed": true
   },
   "outputs": [],
   "source": [
    "testing_self_loop.write.mode(\"overwrite\").parquet(\"models/OnlyLinks/testing_self_loop.parquet\")"
   ]
  },
  {
   "cell_type": "code",
   "execution_count": 17,
   "metadata": {},
   "outputs": [
    {
     "data": {
      "text/plain": [
       "DataFrame[links: array<string>, features: vector]"
      ]
     },
     "execution_count": 17,
     "metadata": {},
     "output_type": "execute_result"
    }
   ],
   "source": [
    "from pyspark.ml.feature import CountVectorizer\n",
    "from pyspark.ml.clustering import LDA\n",
    "\n",
    "wordsVector = CountVectorizer(inputCol=\"links\", outputCol=\"features\")\n",
    "transformer = wordsVector.fit(training_self_loop)\n",
    "result = transformer.transform(training_self_loop).cache()\n",
    "\n",
    "result"
   ]
  },
  {
   "cell_type": "code",
   "execution_count": 18,
   "metadata": {},
   "outputs": [
    {
     "data": {
      "text/plain": [
       "32635430"
      ]
     },
     "execution_count": 18,
     "metadata": {},
     "output_type": "execute_result"
    }
   ],
   "source": [
    "result.count()"
   ]
  },
  {
   "cell_type": "code",
   "execution_count": 19,
   "metadata": {
    "collapsed": true
   },
   "outputs": [],
   "source": [
    "transformer.write().overwrite().save(\"models/OnlyLinks/transformer.model\")"
   ]
  },
  {
   "cell_type": "code",
   "execution_count": 20,
   "metadata": {
    "collapsed": true
   },
   "outputs": [],
   "source": [
    "result.select(\"features\").write.mode(\"overwrite\").parquet(\"models/OnlyLinks/traning_set.parquet\")"
   ]
  },
  {
   "cell_type": "code",
   "execution_count": null,
   "metadata": {
    "collapsed": true
   },
   "outputs": [],
   "source": []
  }
 ],
 "metadata": {
  "kernelspec": {
   "display_name": "Python 3",
   "language": "python",
   "name": "python3"
  },
  "language_info": {
   "codemirror_mode": {
    "name": "ipython",
    "version": 3
   },
   "file_extension": ".py",
   "mimetype": "text/x-python",
   "name": "python",
   "nbconvert_exporter": "python",
   "pygments_lexer": "ipython3",
   "version": "3.6.3"
  }
 },
 "nbformat": 4,
 "nbformat_minor": 2
}
