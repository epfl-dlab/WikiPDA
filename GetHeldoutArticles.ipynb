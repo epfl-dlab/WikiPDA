{
 "cells": [
  {
   "cell_type": "code",
   "execution_count": 1,
   "metadata": {
    "collapsed": true
   },
   "outputs": [],
   "source": [
    "import pyspark\n",
    "import pyspark.sql\n",
    "from pyspark.sql import *\n",
    "from pyspark.sql.functions import *\n",
    "import json\n",
    "import urllib\n",
    "import argparse\n",
    "%matplotlib inline\n",
    "\n",
    "conf = pyspark.SparkConf().setMaster(\"local[*]\").setAll([\n",
    "                                   ('spark.driver.memory','64g'),\n",
    "                                   ('spark.driver.maxResultSize', '32G'),\n",
    "                                   ('spark.local.dir', '/scratch/tmp/'),\n",
    "                                   ('spark.yarn.stagingDir', '/scratch/tmp/'),\n",
    "                                   ('spark.sql.warehouse.dir', '/scratch/tmp/')\n",
    "                                  ])\n",
    "\n",
    "# create the session\n",
    "spark = SparkSession.builder.config(conf=conf).getOrCreate()\n",
    "# create the context\n",
    "sc = spark.sparkContext"
   ]
  },
  {
   "cell_type": "code",
   "execution_count": 2,
   "metadata": {},
   "outputs": [
    {
     "data": {
      "text/html": [
       "\n",
       "            <div>\n",
       "                <p><b>SparkSession - in-memory</b></p>\n",
       "                \n",
       "        <div>\n",
       "            <p><b>SparkContext</b></p>\n",
       "\n",
       "            <p><a href=\"http://10.90.36.37:4042\">Spark UI</a></p>\n",
       "\n",
       "            <dl>\n",
       "              <dt>Version</dt>\n",
       "                <dd><code>v2.4.5</code></dd>\n",
       "              <dt>Master</dt>\n",
       "                <dd><code>local[*]</code></dd>\n",
       "              <dt>AppName</dt>\n",
       "                <dd><code>pyspark-shell</code></dd>\n",
       "            </dl>\n",
       "        </div>\n",
       "        \n",
       "            </div>\n",
       "        "
      ],
      "text/plain": [
       "<pyspark.sql.session.SparkSession at 0x7f22f2148d30>"
      ]
     },
     "execution_count": 2,
     "metadata": {},
     "output_type": "execute_result"
    }
   ],
   "source": [
    "spark"
   ]
  },
  {
   "cell_type": "code",
   "execution_count": 3,
   "metadata": {
    "collapsed": true
   },
   "outputs": [],
   "source": [
    "sites = [\"jawiki\", \"cswiki\", \"cawiki\", \"svwiki\", \"arwiki\", \"dewiki\", \n",
    "             \"elwiki\", \"enwiki\", \"eswiki\", \"fawiki\", \"fiwiki\", \"frwiki\", \n",
    "             \"hewiki\", \"idwiki\", \"itwiki\", \"kowiki\", \"nlwiki\", \"plwiki\", \n",
    "             \"ptwiki\", \"rowiki\", \"ruwiki\", \"sqwiki\", \"srwiki\", \"trwiki\", \n",
    "             \"ukwiki\", \"viwiki\", \"warwiki\", \"zhwiki\"]"
   ]
  },
  {
   "cell_type": "code",
   "execution_count": 19,
   "metadata": {},
   "outputs": [
    {
     "name": "stdout",
     "output_type": "stream",
     "text": [
      "jawiki - Total articles: 1097468, Held-out size: 10000\n",
      "cswiki - Total articles: 410485, Held-out size: 4104\n",
      "cawiki - Total articles: 611272, Held-out size: 6112\n",
      "svwiki - Total articles: 3452729, Held-out size: 10000\n",
      "arwiki - Total articles: 987435, Held-out size: 9874\n",
      "dewiki - Total articles: 2042711, Held-out size: 10000\n",
      "elwiki - Total articles: 163512, Held-out size: 1635\n",
      "enwiki - Total articles: 5571501, Held-out size: 10000\n",
      "eswiki - Total articles: 1461492, Held-out size: 10000\n",
      "fawiki - Total articles: 673943, Held-out size: 6739\n",
      "fiwiki - Total articles: 451007, Held-out size: 4510\n",
      "frwiki - Total articles: 2012837, Held-out size: 10000\n",
      "hewiki - Total articles: 239310, Held-out size: 2393\n",
      "idwiki - Total articles: 495316, Held-out size: 4953\n",
      "itwiki - Total articles: 1458314, Held-out size: 10000\n",
      "kowiki - Total articles: 418045, Held-out size: 4180\n",
      "nlwiki - Total articles: 1888944, Held-out size: 10000\n",
      "plwiki - Total articles: 1288704, Held-out size: 10000\n",
      "ptwiki - Total articles: 964365, Held-out size: 9643\n",
      "rowiki - Total articles: 377932, Held-out size: 3779\n",
      "ruwiki - Total articles: 1405781, Held-out size: 10000\n",
      "sqwiki - Total articles: 70796, Held-out size: 707\n",
      "srwiki - Total articles: 579483, Held-out size: 5794\n",
      "trwiki - Total articles: 319411, Held-out size: 3194\n",
      "ukwiki - Total articles: 905414, Held-out size: 9054\n",
      "viwiki - Total articles: 1217611, Held-out size: 10000\n",
      "warwiki - Total articles: 1250531, Held-out size: 10000\n",
      "zhwiki - Total articles: 1028056, Held-out size: 10000\n"
     ]
    }
   ],
   "source": [
    "import builtins\n",
    "\n",
    "all_links_rdd = sc.emptyRDD()\n",
    "for s in sites:\n",
    "    qids = spark.read.parquet(\"datasets/{}/anchors_info_qid.parquet\".format(s)).select(\"qid\").distinct()\n",
    "    articles_count = qids.count()\n",
    "    one_percent = int(articles_count * 0.01)\n",
    "    n = builtins.min(10000, one_percent)\n",
    "    print(\"{} - Total articles: {}, Held-out size: {}\".format(s, articles_count, n))\n",
    "    heldout = qids.sample(False, n / articles_count, seed=123).sort(rand()).limit(n)\n",
    "    qids.registerTempTable(\"qids\")\n",
    "    heldout.registerTempTable(\"heldout\")\n",
    "    query = \"\"\"\n",
    "    SELECT qids.qid, CASE WHEN heldout.qid is NOT NULL THEN TRUE ELSE FALSE END AS heldout \n",
    "    FROM qids \n",
    "    LEFT JOIN heldout\n",
    "    ON qids.qid = heldout.qid\n",
    "    \"\"\"\n",
    "    heldout_documents = spark.sql(query)\n",
    "    heldout_documents.write.mode(\"overwrite\").parquet(\"datasets/{}/heldout_documents.parquet\".format(s))"
   ]
  },
  {
   "cell_type": "code",
   "execution_count": 20,
   "metadata": {
    "collapsed": true
   },
   "outputs": [],
   "source": [
    "exit()"
   ]
  },
  {
   "cell_type": "code",
   "execution_count": null,
   "metadata": {
    "collapsed": true
   },
   "outputs": [],
   "source": []
  }
 ],
 "metadata": {
  "kernelspec": {
   "display_name": "Python 3",
   "language": "python",
   "name": "python3"
  },
  "language_info": {
   "codemirror_mode": {
    "name": "ipython",
    "version": 3
   },
   "file_extension": ".py",
   "mimetype": "text/x-python",
   "name": "python",
   "nbconvert_exporter": "python",
   "pygments_lexer": "ipython3",
   "version": "3.6.3"
  }
 },
 "nbformat": 4,
 "nbformat_minor": 2
}
